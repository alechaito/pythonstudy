{
 "cells": [
  {
   "cell_type": "markdown",
   "metadata": {},
   "source": [
    "# Zip and unzip\n",
    "\n",
    "## Zip\n",
    "\n",
    "Zip is a useful function that allows you to combine two lists easily.\n",
    "\n",
    "After calling zip, an iterator is returned. In order to see the content wrapped inside, we need to first convert it to a list."
   ]
  },
  {
   "cell_type": "code",
   "execution_count": 1,
   "metadata": {},
   "outputs": [
    {
     "name": "stdout",
     "output_type": "stream",
     "text": [
      "[('Joe', 'Schmoe', 23), ('Earnst', 'Ehlmann', 65), ('Thomas', 'Fischer', 11), ('Martin', 'Walter', 36), ('Charles', 'Rogan', 83)]\n"
     ]
    }
   ],
   "source": [
    "first_name = ['Joe','Earnst','Thomas','Martin','Charles']\n",
    "\n",
    "last_name = ['Schmoe','Ehlmann','Fischer','Walter','Rogan','Green']\n",
    "\n",
    "age = [23, 65, 11, 36, 83]\n",
    "\n",
    "print(list(zip(first_name,last_name, age)))"
   ]
  },
  {
   "cell_type": "markdown",
   "metadata": {},
   "source": [
    "## Unzip\n",
    "\n",
    "We can use the zip function to unzip a list as well. This time, we need an input of a list with an asterisk before it.\n",
    "\n",
    "The outputs are the separated lists."
   ]
  },
  {
   "cell_type": "code",
   "execution_count": 6,
   "metadata": {},
   "outputs": [
    {
     "name": "stdout",
     "output_type": "stream",
     "text": [
      "first name: ('Joe', 'Earnst', 'Thomas', 'Martin', 'Charles')\n",
      "last name: ('Schmoe', 'Ehlmann', 'Fischer', 'Walter', 'Rogan') \n",
      "age: (23, 65, 11, 36, 83)\n"
     ]
    }
   ],
   "source": [
    "full_name_list = [('Joe', 'Schmoe', 23),\n",
    "                  ('Earnst', 'Ehlmann', 65),\n",
    "                  ('Thomas', 'Fischer', 11),\n",
    "                  ('Martin', 'Walter', 36),\n",
    "                  ('Charles', 'Rogan', 83)]\n",
    "\n",
    "first_name, last_name, age = list(zip(*full_name_list))\n",
    "print(\"first name: {}\\nlast name: {} \\nage: {}\".format(first_name, last_name, age))"
   ]
  },
  {
   "cell_type": "code",
   "execution_count": null,
   "metadata": {},
   "outputs": [],
   "source": []
  }
 ],
 "metadata": {
  "kernelspec": {
   "display_name": "Python 3",
   "language": "python",
   "name": "python3"
  },
  "language_info": {
   "codemirror_mode": {
    "name": "ipython",
    "version": 2
   },
   "file_extension": ".py",
   "mimetype": "text/x-python",
   "name": "python",
   "nbconvert_exporter": "python",
   "pygments_lexer": "ipython2",
   "version": "2.7.12"
  }
 },
 "nbformat": 4,
 "nbformat_minor": 2
}
