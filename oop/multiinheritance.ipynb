{
 "cells": [
  {
   "cell_type": "markdown",
   "metadata": {},
   "source": [
    "# Python Multiple Inheritance\n",
    "\n",
    "A class can be derived from more than one base class in Python, similar to C++. This is called multiple inheritance.\n",
    "\n",
    "In multiple inheritance, the features of all the base classes are inherited into the derived class. The syntax for multiple inheritance is similar to single inheritance.\n",
    "\n",
    "Example:\n",
    "\n",
    "class Base1:\n",
    "    pass\n",
    "\n",
    "class Base2:\n",
    "    pass\n",
    "\n",
    "class MultiDerived(Base1, Base2):\n",
    "    pass"
   ]
  },
  {
   "cell_type": "code",
   "execution_count": 2,
   "metadata": {},
   "outputs": [
    {
     "name": "stdout",
     "output_type": "stream",
     "text": [
      "Hello i am base 1\n"
     ]
    }
   ],
   "source": [
    "class Base1: #father class 1\n",
    "    def func1(self):\n",
    "        print(\"Hello i am base 1\")\n",
    "\n",
    "class Base2: #father class 2\n",
    "    def func2(self):\n",
    "        print(\"Hello i am base 2\")\n",
    "\n",
    "class Derived(Base1, Base2):\n",
    "    def func3(self):\n",
    "        print(\"Hello i am derived\")\n",
    "\n",
    "derived1 = Derived()\n",
    "\n",
    "derived1.func1()"
   ]
  },
  {
   "cell_type": "code",
   "execution_count": 3,
   "metadata": {},
   "outputs": [
    {
     "name": "stdout",
     "output_type": "stream",
     "text": [
      "Hello i am base 2\n"
     ]
    }
   ],
   "source": [
    "derived1.func2()"
   ]
  },
  {
   "cell_type": "code",
   "execution_count": 4,
   "metadata": {},
   "outputs": [
    {
     "name": "stdout",
     "output_type": "stream",
     "text": [
      "Hello i am derived\n"
     ]
    }
   ],
   "source": [
    "derived1.func3()"
   ]
  },
  {
   "cell_type": "code",
   "execution_count": null,
   "metadata": {},
   "outputs": [],
   "source": []
  }
 ],
 "metadata": {
  "kernelspec": {
   "display_name": "Python 2",
   "language": "python",
   "name": "python2"
  },
  "language_info": {
   "codemirror_mode": {
    "name": "ipython",
    "version": 2
   },
   "file_extension": ".py",
   "mimetype": "text/x-python",
   "name": "python",
   "nbconvert_exporter": "python",
   "pygments_lexer": "ipython2",
   "version": "2.7.12"
  }
 },
 "nbformat": 4,
 "nbformat_minor": 2
}
